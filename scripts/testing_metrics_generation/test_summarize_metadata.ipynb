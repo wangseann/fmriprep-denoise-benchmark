{
 "cells": [
  {
   "cell_type": "markdown",
   "id": "9308e35c",
   "metadata": {},
   "source": [
    "## Notebook to reproduce & debug `prepare_qcfc_plotting`"
   ]
  },
  {
   "cell_type": "code",
   "execution_count": 1,
   "id": "a1197caa",
   "metadata": {},
   "outputs": [
    {
     "name": "stdout",
     "output_type": "stream",
     "text": [
      "✅ fmriprep_denoise.features loaded successfully!\n"
     ]
    }
   ],
   "source": [
    "# ── Cell 0: insert repo into PATH and stub the missing bct function ──\n",
    "import sys, types\n",
    "from pathlib import Path\n",
    "\n",
    "# 1) Point to your repo root so \"import fmriprep_denoise\" works\n",
    "REPO_ROOT = Path(\"/home/seann/scratch/denoise/fmriprep-denoise-benchmark\")\n",
    "if str(REPO_ROOT) not in sys.path:\n",
    "    sys.path.insert(0, str(REPO_ROOT))\n",
    "\n",
    "# 2) Create a fake `bct` module with the expected function\n",
    "bct = types.ModuleType(\"bct\")\n",
    "def modularity_louvain_und_sign(*args, **kwargs):\n",
    "    # stub—only needed so the import succeeds; unused for QC‑FC\n",
    "    return None\n",
    "bct.modularity_louvain_und_sign = modularity_louvain_und_sign\n",
    "sys.modules[\"bct\"] = bct\n",
    "\n",
    "# Verify imports now work:\n",
    "from fmriprep_denoise.features import (\n",
    "    significant_level,\n",
    "    calculate_median_absolute,\n",
    "    get_atlas_pairwise_distance,\n",
    ")\n",
    "print(\"✅ fmriprep_denoise.features loaded successfully!\")"
   ]
  },
  {
   "cell_type": "code",
   "execution_count": 2,
   "id": "3ca5d96c",
   "metadata": {},
   "outputs": [],
   "source": [
    "# Cell 1: imports for debug pipeline\n",
    "import logging\n",
    "from pathlib import Path\n",
    "\n",
    "import pandas as pd\n",
    "import numpy as np\n",
    "from scipy.stats import spearmanr\n",
    "\n",
    "# fmriprep_denoise imports now work thanks to Cell 0\n",
    "from fmriprep_denoise.features import (\n",
    "    significant_level,\n",
    "    calculate_median_absolute,\n",
    "    get_atlas_pairwise_distance,\n",
    ")\n",
    "from fmriprep_denoise.visualization.tables import group_name_rename\n",
    "\n",
    "logging.basicConfig(level=logging.INFO, format=\"%(levelname)s: %(message)s\")\n",
    "logger = logging.getLogger(__name__)"
   ]
  },
  {
   "cell_type": "code",
   "execution_count": 3,
   "id": "6843e176",
   "metadata": {},
   "outputs": [],
   "source": [
    "# Cell 2: user parameters\n",
    "PATH_ROOT        = Path(\"/home/seann/scratch/denoise/fmriprep-denoise-benchmark/\"\n",
    "                        \"outputs/denoise-metrics-atlas.5-4.27.25\")\n",
    "DATASETS         = [\"ds000228\"]\n",
    "DATASET          = DATASETS[0]            # <-- add this\n",
    "FMRIPREP_VERSION = \"fmriprep-25.0.0\"\n",
    "CRITERIA         = \"stringent\"              # \"minimal\" or \"stringent\"\n",
    "EXCLUDED         = []\n",
    "\n",
    "# for the glob‐pattern in Cell 3\n",
    "ATLAS_NAME       = \"Schaefer2018\"\n",
    "DIMENSION        = 424   "
   ]
  },
  {
   "cell_type": "code",
   "execution_count": 4,
   "id": "4468c199",
   "metadata": {},
   "outputs": [
    {
     "name": "stdout",
     "output_type": "stream",
     "text": [
      "🔍 Pattern: ds000228/fmriprep-25.0.0/dataset-ds000228_atlas-Schaefer2018_nroi-424_qcfc.tsv\n",
      "→ Found files: [PosixPath('/home/seann/scratch/denoise/fmriprep-denoise-benchmark/outputs/denoise-metrics-atlas.5-4.27.25/ds000228/fmriprep-25.0.0/dataset-ds000228_atlas-Schaefer2018_nroi-424_qcfc.tsv')]\n",
      "→ Labels: ['dataset-ds000228_atlas-Schaefer2018_nroi-424']\n"
     ]
    }
   ],
   "source": [
    "# Cell 3: replicate the glob logic from utils._get_connectome_metric_paths\n",
    "def _get_connectome_metric_paths(dataset, fmriprep_version, metric,\n",
    "                                 atlas_name, dimension, path_root):\n",
    "    atlas_name = \"*\" if atlas_name is None else atlas_name\n",
    "    dimension  = \"*\" if dimension  is None else dimension\n",
    "    rel = (\n",
    "        f\"{dataset}/{fmriprep_version}/\"\n",
    "        f\"dataset-{dataset}_atlas-{atlas_name}_nroi-{dimension}_{metric}.tsv\"\n",
    "    )\n",
    "    files = list(path_root.glob(rel))\n",
    "    print(f\"🔍 Pattern: {rel}\")\n",
    "    print(\"→ Found files:\", files)\n",
    "    labels = [f.name.split(f\"_{metric}\")[0] for f in files]\n",
    "    print(\"→ Labels:\", labels)\n",
    "    return files, labels\n",
    "\n",
    "files, labels = _get_connectome_metric_paths(\n",
    "    DATASET, FMRIPREP_VERSION, \"qcfc\", ATLAS_NAME, DIMENSION, PATH_ROOT\n",
    ")\n",
    "assert files, \"No QC‑FC files found; verify PATH_ROOT and version\""
   ]
  },
  {
   "cell_type": "code",
   "execution_count": 5,
   "id": "b8dc4371",
   "metadata": {},
   "outputs": [
    {
     "name": "stdout",
     "output_type": "stream",
     "text": [
      "_qcfc_bygroup('pvalue') (89676, 42) → (89676, 21) columns: MultiIndex([('full_sample',        'baseline'),\n",
      "            (      'child',        'baseline'),\n",
      "            (      'adult',        'baseline'),\n",
      "            ('full_sample',          'simple'),\n",
      "            (      'child',          'simple'),\n",
      "            (      'adult',          'simple'),\n",
      "            ('full_sample',      'simple+gsr'),\n",
      "            (      'child',      'simple+gsr'),\n",
      "            (      'adult',      'simple+gsr'),\n",
      "            ('full_sample',     'scrubbing.5'),\n",
      "            (      'child',     'scrubbing.5'),\n",
      "            (      'adult',     'scrubbing.5'),\n",
      "            ('full_sample', 'scrubbing.5+gsr'),\n",
      "            (      'child', 'scrubbing.5+gsr'),\n",
      "            (      'adult', 'scrubbing.5+gsr'),\n",
      "            ('full_sample',         'compcor'),\n",
      "            (      'child',         'compcor'),\n",
      "            (      'adult',         'compcor'),\n",
      "            ('full_sample',           'aroma'),\n",
      "            (      'child',           'aroma'),\n",
      "            (      'adult',           'aroma')],\n",
      "           names=['groups', 'strategy'])\n",
      "_qcfc_bygroup('correlation') (89676, 42) → (89676, 21) columns: MultiIndex([('full_sample',        'baseline'),\n",
      "            (      'child',        'baseline'),\n",
      "            (      'adult',        'baseline'),\n",
      "            ('full_sample',          'simple'),\n",
      "            (      'child',          'simple'),\n",
      "            (      'adult',          'simple'),\n",
      "            ('full_sample',      'simple+gsr'),\n",
      "            (      'child',      'simple+gsr'),\n",
      "            (      'adult',      'simple+gsr'),\n",
      "            ('full_sample',     'scrubbing.5'),\n",
      "            (      'child',     'scrubbing.5'),\n",
      "            (      'adult',     'scrubbing.5'),\n",
      "            ('full_sample', 'scrubbing.5+gsr'),\n",
      "            (      'child', 'scrubbing.5+gsr'),\n",
      "            (      'adult', 'scrubbing.5+gsr'),\n",
      "            ('full_sample',         'compcor'),\n",
      "            (      'child',         'compcor'),\n",
      "            (      'adult',         'compcor'),\n",
      "            ('full_sample',           'aroma'),\n",
      "            (      'child',           'aroma'),\n",
      "            (      'adult',           'aroma')],\n",
      "           names=['groups', 'strategy'])\n"
     ]
    }
   ],
   "source": [
    "# Cell 4: load a QC‑FC table and reshape its columns to a MultiIndex\n",
    "def _qcfc_bygroup(metric, path_tsv):\n",
    "    df = pd.read_csv(path_tsv, sep=\"\\t\", index_col=0, header=[0,1])\n",
    "    df = df.rename(columns=group_name_rename)\n",
    "    before_shape = df.shape\n",
    "    df = df.filter(regex=metric)\n",
    "    after_shape  = df.shape\n",
    "    tuples = [\n",
    "        (grp, strat.replace(f\"_{metric}\", \"\"))\n",
    "        for grp, strat in df.columns\n",
    "    ]\n",
    "    df.columns = pd.MultiIndex.from_tuples(\n",
    "        tuples, names=[\"groups\",\"strategy\"]\n",
    "    )\n",
    "    print(f\"_qcfc_bygroup('{metric}') {before_shape} → {after_shape} columns: {df.columns}\")\n",
    "    return df\n",
    "\n",
    "# Test it on p‐values\n",
    "qcfc_pv_df = _qcfc_bygroup(\"pvalue\", files[0])\n",
    "qcfc_corr_df = _qcfc_bygroup(\"correlation\", files[0])"
   ]
  },
  {
   "cell_type": "code",
   "execution_count": 6,
   "id": "cd02d536",
   "metadata": {},
   "outputs": [
    {
     "name": "stdout",
     "output_type": "stream",
     "text": [
      "Melted shape: (1883196, 4)\n",
      "   edge_id groups         strategy     value\n",
      "0        0  adult         baseline  0.236793\n",
      "1        0  adult           simple  0.756426\n",
      "2        0  adult       simple+gsr  0.167845\n",
      "3        0  adult      scrubbing.5  0.834083\n",
      "4        0  adult  scrubbing.5+gsr  0.057266\n"
     ]
    },
    {
     "name": "stderr",
     "output_type": "stream",
     "text": [
      "/tmp/ipykernel_4191598/30838691.py:4: FutureWarning: The previous implementation of stack is deprecated and will be removed in a future version of pandas. See the What's New notes for pandas 2.1.0 for details. Specify future_stack=True to adopt the new implementation and silence this warning.\n",
      "  melted = qcfc_pv_df.stack(level=[\"groups\",\"strategy\"]).reset_index(name=\"value\")\n"
     ]
    },
    {
     "name": "stdout",
     "output_type": "stream",
     "text": [
      "p-value stats:\n",
      " count    1.883196e+06\n",
      "mean     1.936120e-01\n",
      "std      2.189894e-01\n",
      "min      2.297417e-07\n",
      "25%      4.524548e-02\n",
      "50%      9.642476e-02\n",
      "75%      2.776672e-01\n",
      "max      9.999460e-01\n",
      "Name: value, dtype: float64\n"
     ]
    }
   ],
   "source": [
    "# Cell 5: stack the MultiIndex columns into long form\n",
    "# ────────────────────────────────────────────────────────────────\n",
    "# qcfc_pv_df is a DataFrame with MultiIndex columns (groups, strategy)\n",
    "melted = qcfc_pv_df.stack(level=[\"groups\",\"strategy\"]).reset_index(name=\"value\")\n",
    "\n",
    "# Rename the automatically named “level_0” index column if you like:\n",
    "melted = melted.rename(columns={\"level_0\": \"edge_id\"})\n",
    "\n",
    "print(\"Melted shape:\", melted.shape)\n",
    "print(melted.head())\n",
    "\n",
    "# Quick p‐value distribution check\n",
    "print(\"p-value stats:\\n\", melted[\"value\"].describe())"
   ]
  },
  {
   "cell_type": "code",
   "execution_count": 7,
   "id": "d8990229",
   "metadata": {},
   "outputs": [
    {
     "name": "stdout",
     "output_type": "stream",
     "text": [
      "baseline rows: 89676 sum(sig): 86827\n",
      "baseline % sig: 96.82300727061866\n",
      "Uncorrected % significant by strategy:\n",
      " strategy        aroma   baseline    compcor  scrubbing.5  scrubbing.5+gsr  \\\n",
      "groups                                                                      \n",
      "adult        2.333958  99.821580   0.041260     8.908738         0.079174   \n",
      "child        0.086980   0.336768  92.167358     1.013649         0.255364   \n",
      "full_sample  0.088095  96.823007   1.380525    92.462866         0.354610   \n",
      "\n",
      "strategy        simple  simple+gsr  \n",
      "groups                              \n",
      "adult        99.441322    0.717026  \n",
      "child         6.401936    0.596592  \n",
      "full_sample  98.485659    1.698336  \n"
     ]
    }
   ],
   "source": [
    "# Cell 6: apply uncorrected threshold and compute %\n",
    "melted[\"p_sig\"] = (\n",
    "    melted.groupby([\"groups\",\"strategy\"])[\"value\"]\n",
    "          .transform(significant_level)\n",
    ")\n",
    "# Inspect one strategy\n",
    "grp = melted.query(\"groups=='full_sample' & strategy=='baseline'\")\n",
    "print(\"baseline rows:\", len(grp), \"sum(sig):\", grp[\"p_sig\"].sum())\n",
    "print(\"baseline % sig:\", grp[\"p_sig\"].mean()*100)\n",
    "\n",
    "# Summarise ALL strategies\n",
    "uncorr = (\n",
    "    melted.groupby([\"groups\",\"strategy\"])[\"p_sig\"]\n",
    "          .mean()*100\n",
    ").unstack()\n",
    "print(\"Uncorrected % significant by strategy:\\n\", uncorr)"
   ]
  },
  {
   "cell_type": "code",
   "execution_count": 8,
   "id": "2482e8a4",
   "metadata": {},
   "outputs": [
    {
     "name": "stdout",
     "output_type": "stream",
     "text": [
      "baseline % FDR sig: 96.58660065123334\n",
      "FDR % significant by strategy:\n",
      " strategy     aroma   baseline  compcor  scrubbing.5  scrubbing.5+gsr  \\\n",
      "groups                                                                 \n",
      "adult          0.0  99.821580  0.00000          0.0              0.0   \n",
      "child          0.0   0.000000  0.00000          0.0              0.0   \n",
      "full_sample    0.0  96.586601  0.00223          0.0              0.0   \n",
      "\n",
      "strategy        simple  simple+gsr  \n",
      "groups                              \n",
      "adult        99.436862    0.000000  \n",
      "child         0.000000    0.000000  \n",
      "full_sample  98.466702    0.001115  \n"
     ]
    }
   ],
   "source": [
    "# Cell 7: apply FDR correction and compute %\n",
    "melted[\"p_fdr\"] = (\n",
    "    melted.groupby([\"groups\",\"strategy\"])[\"value\"]\n",
    "          .transform(significant_level, correction=\"fdr_bh\")\n",
    ")\n",
    "grp_fdr = melted.query(\"groups=='full_sample' & strategy=='baseline'\")\n",
    "print(\"baseline % FDR sig:\", grp_fdr[\"p_fdr\"].mean()*100)\n",
    "\n",
    "fdr = (\n",
    "    melted.groupby([\"groups\",\"strategy\"])[\"p_fdr\"]\n",
    "          .mean()*100\n",
    ").unstack()\n",
    "print(\"FDR % significant by strategy:\\n\", fdr)"
   ]
  },
  {
   "cell_type": "code",
   "execution_count": 9,
   "id": "d619209a",
   "metadata": {},
   "outputs": [
    {
     "name": "stdout",
     "output_type": "stream",
     "text": [
      "First few median(|r|):\n",
      " groups       strategy\n",
      "full_sample  baseline    0.182147\n",
      "child        baseline    0.146612\n",
      "adult        baseline    0.542621\n",
      "full_sample  simple      0.207833\n",
      "child        simple      0.190845\n",
      "dtype: float64\n",
      "Median absolute QC‑FC by strategy:\n",
      " strategy        aroma  baseline   compcor  scrubbing.5  scrubbing.5+gsr  \\\n",
      "groups                                                                    \n",
      "adult        0.333517  0.542621  0.058185     0.339532         0.178702   \n",
      "child        0.049048  0.146612  0.202070     0.172367         0.074967   \n",
      "full_sample  0.057280  0.182147  0.143911     0.173501         0.096517   \n",
      "\n",
      "strategy       simple  simple+gsr  \n",
      "groups                             \n",
      "adult        0.446453    0.278596  \n",
      "child        0.190845    0.138672  \n",
      "full_sample  0.207833    0.144414  \n"
     ]
    }
   ],
   "source": [
    "# Cell 8: compute median absolute QC‐FC per strategy\n",
    "mad = qcfc_corr_df.apply(calculate_median_absolute)\n",
    "print(\"First few median(|r|):\\n\", mad.head())\n",
    "\n",
    "# Melt and summarise\n",
    "mad_long = mad.reset_index().melt(\n",
    "    id_vars=[\"groups\",\"strategy\"],\n",
    "    value_name=\"qcfc_mad\"\n",
    ")\n",
    "meds = mad_long.groupby([\"groups\",\"strategy\"])[\"qcfc_mad\"]\\\n",
    "               .median().unstack()\n",
    "print(\"Median absolute QC‑FC by strategy:\\n\", meds)"
   ]
  },
  {
   "cell_type": "code",
   "execution_count": 10,
   "id": "45dfd555",
   "metadata": {},
   "outputs": [
    {
     "name": "stdout",
     "output_type": "stream",
     "text": [
      "Fetching centroids for atlas: Schaefer2018 with dimension: 424\n",
      "Loading centroids from precomputed TSV: /home/seann/scratch/denoise/fmriprep-denoise-benchmark/outputs/denoise-metrics-atlas.5-4.17.25/ds000228/fmriprep-25.0.0/atlas-Schaefer2018Combined_centroids.tsv\n",
      "Centroids successfully loaded. Shape: (424, 3)\n",
      "Computing pairwise distances using cdist...\n",
      "Pairwise distance computation complete. Returning distance dataframe with shape: (89676, 3)\n",
      "✔️ Distance‐dependence per (group,strategy):\n",
      "groups       strategy\n",
      "full_sample  baseline   -0.272920\n",
      "child        baseline   -0.235973\n",
      "adult        baseline   -0.108527\n",
      "full_sample  simple     -0.348687\n",
      "child        simple     -0.286502\n",
      "Name: corr_motion_distance, dtype: float64\n"
     ]
    }
   ],
   "source": [
    "# Cell 9 (fixed): compute Spearman ρ(distance, QC‑FC) per (group,strategy)\n",
    "label0 = labels[0].replace(f\"dataset-{DATASET}_\", \"\")\n",
    "atlas = label0.split(\"atlas-\")[-1].split(\"_\")[0]\n",
    "dim   = label0.split(\"nroi-\")[-1].split(\"_\")[0]\n",
    "\n",
    "# use the same exclusion you validated already\n",
    "excluded_rois_paths = {\n",
    "    \"fmriprep-25.0.0\": \"/home/seann/scratch/halfpipe_test/test14/\"\n",
    "                      \"derivatives/denoise_0.8subjectthreshold/rois_dropped.csv\",\n",
    "    \"fmriprep-20.2.7\": \"/home/seann/scratch/halfpipe_test/test15/\"\n",
    "                      \"derivatives/denoise_0.8subjectthreshold/rois_dropped.csv\",\n",
    "}\n",
    "excluded_rois_path = excluded_rois_paths[FMRIPREP_VERSION]\n",
    "\n",
    "dist_df = get_atlas_pairwise_distance(\n",
    "    atlas, dim, excluded_rois_path=excluded_rois_path\n",
    ")\n",
    "d = dist_df[\"distance\"].values\n",
    "\n",
    "# Build a list of ((group,strategy), rho) pairs\n",
    "rho_list = []\n",
    "for grp, strat in qcfc_corr_df.columns:\n",
    "    y = qcfc_corr_df[(grp, strat)].values\n",
    "    rho = spearmanr(d, y).correlation\n",
    "    rho_list.append(((grp, strat), rho))\n",
    "\n",
    "# Construct a MultiIndex Series\n",
    "dist_df2 = pd.Series(\n",
    "    dict(rho_list),\n",
    "    name=\"corr_motion_distance\"\n",
    ")\n",
    "dist_df2.index = pd.MultiIndex.from_tuples(\n",
    "    dist_df2.index, names=[\"groups\",\"strategy\"]\n",
    ")\n",
    "\n",
    "print(\"✔️ Distance‐dependence per (group,strategy):\")\n",
    "print(dist_df2.head())"
   ]
  },
  {
   "cell_type": "code",
   "execution_count": 11,
   "id": "ff24746f",
   "metadata": {},
   "outputs": [
    {
     "name": "stdout",
     "output_type": "stream",
     "text": [
      "✔️ Manual summary (first rows):\n",
      "                         qcfc_significant  qcfc_fdr_significant  qcfc_mad  \\\n",
      "groups strategy                                                            \n",
      "adult  aroma                    2.333958               0.00000  0.333517   \n",
      "       baseline                99.821580              99.82158  0.542621   \n",
      "       compcor                  0.041260               0.00000  0.058185   \n",
      "       scrubbing.5              8.908738               0.00000  0.339532   \n",
      "       scrubbing.5+gsr          0.079174               0.00000  0.178702   \n",
      "\n",
      "                        corr_motion_distance  \n",
      "groups strategy                               \n",
      "adult  aroma                        0.018173  \n",
      "       baseline                    -0.108527  \n",
      "       compcor                     -0.202154  \n",
      "       scrubbing.5                 -0.118843  \n",
      "       scrubbing.5+gsr             -0.193409   \n",
      "\n",
      "✅ Saved manual QC‑FC summary to:\n",
      "  /home/seann/scratch/denoise/fmriprep-denoise-benchmark/outputs/denoise-metrics-atlas.5-4.27.25/ds000228/fmriprep-25.0.0/ds000228_fmriprep-25-0-0_desc-stringent_summary_test.tsv\n"
     ]
    }
   ],
   "source": [
    "# Cell 10: Rebuild manual summary and save to TSV\n",
    "\n",
    "import pandas as pd\n",
    "\n",
    "# 1) Reconstruct manual summary from previous cells\n",
    "sig_df    = pd.DataFrame(uncorr.stack(),    columns=[\"qcfc_significant\"])\n",
    "fdr_df    = pd.DataFrame(fdr.stack(),       columns=[\"qcfc_fdr_significant\"])\n",
    "median_df = pd.DataFrame(meds.stack(),      columns=[\"qcfc_mad\"])\n",
    "# dist_df2 from Cell 9 is a MultiIndex Series of corr_motion_distance\n",
    "\n",
    "summary_manual = pd.concat([sig_df, fdr_df, median_df, dist_df2], axis=1)\n",
    "summary_manual.index.names = [\"groups\", \"strategy\"]\n",
    "\n",
    "print(\"✔️ Manual summary (first rows):\\n\", summary_manual.head(), \"\\n\")\n",
    "\n",
    "# 2) Build output path\n",
    "outpath = (\n",
    "    PATH_ROOT / DATASET / FMRIPREP_VERSION /\n",
    "    f\"{DATASET}_{FMRIPREP_VERSION.replace('.', '-')}\"\n",
    "    f\"_desc-{CRITERIA}_summary_test.tsv\"\n",
    ")\n",
    "outpath.parent.mkdir(parents=True, exist_ok=True)\n",
    "\n",
    "# 3) Save the DataFrame to TSV\n",
    "summary_manual.to_csv(outpath, sep=\"\\t\")\n",
    "print(f\"✅ Saved manual QC‑FC summary to:\\n  {outpath}\")"
   ]
  },
  {
   "cell_type": "code",
   "execution_count": 12,
   "id": "8623300a",
   "metadata": {},
   "outputs": [
    {
     "name": "stdout",
     "output_type": "stream",
     "text": [
      "✔️ Manual summary:\n",
      "                         qcfc_significant  qcfc_fdr_significant  qcfc_mad  \\\n",
      "groups strategy                                                            \n",
      "adult  aroma                    2.333958               0.00000  0.333517   \n",
      "       baseline                99.821580              99.82158  0.542621   \n",
      "       compcor                  0.041260               0.00000  0.058185   \n",
      "       scrubbing.5              8.908738               0.00000  0.339532   \n",
      "       scrubbing.5+gsr          0.079174               0.00000  0.178702   \n",
      "\n",
      "                        corr_motion_distance  \n",
      "groups strategy                               \n",
      "adult  aroma                        0.018173  \n",
      "       baseline                    -0.108527  \n",
      "       compcor                     -0.202154  \n",
      "       scrubbing.5                 -0.118843  \n",
      "       scrubbing.5+gsr             -0.193409   \n",
      "\n"
     ]
    },
    {
     "ename": "FileNotFoundError",
     "evalue": "[Errno 2] No such file or directory: '/home/seann/scratch/denoise/fmriprep-denoise-benchmark/outputs/denoise-metrics-atlas.5-4.27.25/ds000228/fmriprep-25.0.0/ds000228_fmriprep-25-0-0_desc-stringent_summary.tsv'",
     "output_type": "error",
     "traceback": [
      "\u001b[31m---------------------------------------------------------------------------\u001b[39m",
      "\u001b[31mFileNotFoundError\u001b[39m                         Traceback (most recent call last)",
      "\u001b[36mCell\u001b[39m\u001b[36m \u001b[39m\u001b[32mIn[12]\u001b[39m\u001b[32m, line 23\u001b[39m\n\u001b[32m     17\u001b[39m \u001b[38;5;66;03m# 2) Load existing summary TSV with two‐row header\u001b[39;00m\n\u001b[32m     18\u001b[39m summary_path = (\n\u001b[32m     19\u001b[39m     PATH_ROOT / DATASET / FMRIPREP_VERSION /\n\u001b[32m     20\u001b[39m     \u001b[33mf\u001b[39m\u001b[33m\"\u001b[39m\u001b[38;5;132;01m{\u001b[39;00mDATASET\u001b[38;5;132;01m}\u001b[39;00m\u001b[33m_\u001b[39m\u001b[38;5;132;01m{\u001b[39;00mFMRIPREP_VERSION.replace(\u001b[33m'\u001b[39m\u001b[33m.\u001b[39m\u001b[33m'\u001b[39m,\u001b[38;5;250m \u001b[39m\u001b[33m'\u001b[39m\u001b[33m-\u001b[39m\u001b[33m'\u001b[39m)\u001b[38;5;132;01m}\u001b[39;00m\u001b[33m\"\u001b[39m\n\u001b[32m     21\u001b[39m     \u001b[33mf\u001b[39m\u001b[33m\"\u001b[39m\u001b[33m_desc-\u001b[39m\u001b[38;5;132;01m{\u001b[39;00mCRITERIA\u001b[38;5;132;01m}\u001b[39;00m\u001b[33m_summary.tsv\u001b[39m\u001b[33m\"\u001b[39m\n\u001b[32m     22\u001b[39m )\n\u001b[32m---> \u001b[39m\u001b[32m23\u001b[39m existing = \u001b[43mpd\u001b[49m\u001b[43m.\u001b[49m\u001b[43mread_csv\u001b[49m\u001b[43m(\u001b[49m\n\u001b[32m     24\u001b[39m \u001b[43m    \u001b[49m\u001b[43msummary_path\u001b[49m\u001b[43m,\u001b[49m\n\u001b[32m     25\u001b[39m \u001b[43m    \u001b[49m\u001b[43msep\u001b[49m\u001b[43m=\u001b[49m\u001b[33;43m\"\u001b[39;49m\u001b[38;5;130;43;01m\\t\u001b[39;49;00m\u001b[33;43m\"\u001b[39;49m\u001b[43m,\u001b[49m\n\u001b[32m     26\u001b[39m \u001b[43m    \u001b[49m\u001b[43mheader\u001b[49m\u001b[43m=\u001b[49m\u001b[43m[\u001b[49m\u001b[32;43m0\u001b[39;49m\u001b[43m,\u001b[49m\u001b[32;43m1\u001b[39;49m\u001b[43m]\u001b[49m\u001b[43m,\u001b[49m\u001b[43m     \u001b[49m\u001b[38;5;66;43;03m# two‐row header for the columns\u001b[39;49;00m\n\u001b[32m     27\u001b[39m \u001b[43m    \u001b[49m\u001b[43mindex_col\u001b[49m\u001b[43m=\u001b[49m\u001b[43m[\u001b[49m\u001b[32;43m0\u001b[39;49m\u001b[43m,\u001b[49m\u001b[32;43m1\u001b[39;49m\u001b[43m]\u001b[49m\u001b[43m   \u001b[49m\u001b[38;5;66;43;03m# two‐column index\u001b[39;49;00m\n\u001b[32m     28\u001b[39m \u001b[43m)\u001b[49m\n\u001b[32m     30\u001b[39m \u001b[38;5;66;03m# 3) Subset to QC‑FC metrics and drop second‐level labels\u001b[39;00m\n\u001b[32m     31\u001b[39m qcfc_metrics = [\u001b[33m\"\u001b[39m\u001b[33mqcfc_significant\u001b[39m\u001b[33m\"\u001b[39m,\u001b[33m\"\u001b[39m\u001b[33mqcfc_fdr_significant\u001b[39m\u001b[33m\"\u001b[39m,\u001b[33m\"\u001b[39m\u001b[33mqcfc_mad\u001b[39m\u001b[33m\"\u001b[39m,\u001b[33m\"\u001b[39m\u001b[33mcorr_motion_distance\u001b[39m\u001b[33m\"\u001b[39m]\n",
      "\u001b[36mFile \u001b[39m\u001b[32m~/.venv/lib/python3.11/site-packages/pandas/io/parsers/readers.py:1026\u001b[39m, in \u001b[36mread_csv\u001b[39m\u001b[34m(filepath_or_buffer, sep, delimiter, header, names, index_col, usecols, dtype, engine, converters, true_values, false_values, skipinitialspace, skiprows, skipfooter, nrows, na_values, keep_default_na, na_filter, verbose, skip_blank_lines, parse_dates, infer_datetime_format, keep_date_col, date_parser, date_format, dayfirst, cache_dates, iterator, chunksize, compression, thousands, decimal, lineterminator, quotechar, quoting, doublequote, escapechar, comment, encoding, encoding_errors, dialect, on_bad_lines, delim_whitespace, low_memory, memory_map, float_precision, storage_options, dtype_backend)\u001b[39m\n\u001b[32m   1013\u001b[39m kwds_defaults = _refine_defaults_read(\n\u001b[32m   1014\u001b[39m     dialect,\n\u001b[32m   1015\u001b[39m     delimiter,\n\u001b[32m   (...)\u001b[39m\u001b[32m   1022\u001b[39m     dtype_backend=dtype_backend,\n\u001b[32m   1023\u001b[39m )\n\u001b[32m   1024\u001b[39m kwds.update(kwds_defaults)\n\u001b[32m-> \u001b[39m\u001b[32m1026\u001b[39m \u001b[38;5;28;01mreturn\u001b[39;00m \u001b[43m_read\u001b[49m\u001b[43m(\u001b[49m\u001b[43mfilepath_or_buffer\u001b[49m\u001b[43m,\u001b[49m\u001b[43m \u001b[49m\u001b[43mkwds\u001b[49m\u001b[43m)\u001b[49m\n",
      "\u001b[36mFile \u001b[39m\u001b[32m~/.venv/lib/python3.11/site-packages/pandas/io/parsers/readers.py:620\u001b[39m, in \u001b[36m_read\u001b[39m\u001b[34m(filepath_or_buffer, kwds)\u001b[39m\n\u001b[32m    617\u001b[39m _validate_names(kwds.get(\u001b[33m\"\u001b[39m\u001b[33mnames\u001b[39m\u001b[33m\"\u001b[39m, \u001b[38;5;28;01mNone\u001b[39;00m))\n\u001b[32m    619\u001b[39m \u001b[38;5;66;03m# Create the parser.\u001b[39;00m\n\u001b[32m--> \u001b[39m\u001b[32m620\u001b[39m parser = \u001b[43mTextFileReader\u001b[49m\u001b[43m(\u001b[49m\u001b[43mfilepath_or_buffer\u001b[49m\u001b[43m,\u001b[49m\u001b[43m \u001b[49m\u001b[43m*\u001b[49m\u001b[43m*\u001b[49m\u001b[43mkwds\u001b[49m\u001b[43m)\u001b[49m\n\u001b[32m    622\u001b[39m \u001b[38;5;28;01mif\u001b[39;00m chunksize \u001b[38;5;129;01mor\u001b[39;00m iterator:\n\u001b[32m    623\u001b[39m     \u001b[38;5;28;01mreturn\u001b[39;00m parser\n",
      "\u001b[36mFile \u001b[39m\u001b[32m~/.venv/lib/python3.11/site-packages/pandas/io/parsers/readers.py:1620\u001b[39m, in \u001b[36mTextFileReader.__init__\u001b[39m\u001b[34m(self, f, engine, **kwds)\u001b[39m\n\u001b[32m   1617\u001b[39m     \u001b[38;5;28mself\u001b[39m.options[\u001b[33m\"\u001b[39m\u001b[33mhas_index_names\u001b[39m\u001b[33m\"\u001b[39m] = kwds[\u001b[33m\"\u001b[39m\u001b[33mhas_index_names\u001b[39m\u001b[33m\"\u001b[39m]\n\u001b[32m   1619\u001b[39m \u001b[38;5;28mself\u001b[39m.handles: IOHandles | \u001b[38;5;28;01mNone\u001b[39;00m = \u001b[38;5;28;01mNone\u001b[39;00m\n\u001b[32m-> \u001b[39m\u001b[32m1620\u001b[39m \u001b[38;5;28mself\u001b[39m._engine = \u001b[38;5;28;43mself\u001b[39;49m\u001b[43m.\u001b[49m\u001b[43m_make_engine\u001b[49m\u001b[43m(\u001b[49m\u001b[43mf\u001b[49m\u001b[43m,\u001b[49m\u001b[43m \u001b[49m\u001b[38;5;28;43mself\u001b[39;49m\u001b[43m.\u001b[49m\u001b[43mengine\u001b[49m\u001b[43m)\u001b[49m\n",
      "\u001b[36mFile \u001b[39m\u001b[32m~/.venv/lib/python3.11/site-packages/pandas/io/parsers/readers.py:1880\u001b[39m, in \u001b[36mTextFileReader._make_engine\u001b[39m\u001b[34m(self, f, engine)\u001b[39m\n\u001b[32m   1878\u001b[39m     \u001b[38;5;28;01mif\u001b[39;00m \u001b[33m\"\u001b[39m\u001b[33mb\u001b[39m\u001b[33m\"\u001b[39m \u001b[38;5;129;01mnot\u001b[39;00m \u001b[38;5;129;01min\u001b[39;00m mode:\n\u001b[32m   1879\u001b[39m         mode += \u001b[33m\"\u001b[39m\u001b[33mb\u001b[39m\u001b[33m\"\u001b[39m\n\u001b[32m-> \u001b[39m\u001b[32m1880\u001b[39m \u001b[38;5;28mself\u001b[39m.handles = \u001b[43mget_handle\u001b[49m\u001b[43m(\u001b[49m\n\u001b[32m   1881\u001b[39m \u001b[43m    \u001b[49m\u001b[43mf\u001b[49m\u001b[43m,\u001b[49m\n\u001b[32m   1882\u001b[39m \u001b[43m    \u001b[49m\u001b[43mmode\u001b[49m\u001b[43m,\u001b[49m\n\u001b[32m   1883\u001b[39m \u001b[43m    \u001b[49m\u001b[43mencoding\u001b[49m\u001b[43m=\u001b[49m\u001b[38;5;28;43mself\u001b[39;49m\u001b[43m.\u001b[49m\u001b[43moptions\u001b[49m\u001b[43m.\u001b[49m\u001b[43mget\u001b[49m\u001b[43m(\u001b[49m\u001b[33;43m\"\u001b[39;49m\u001b[33;43mencoding\u001b[39;49m\u001b[33;43m\"\u001b[39;49m\u001b[43m,\u001b[49m\u001b[43m \u001b[49m\u001b[38;5;28;43;01mNone\u001b[39;49;00m\u001b[43m)\u001b[49m\u001b[43m,\u001b[49m\n\u001b[32m   1884\u001b[39m \u001b[43m    \u001b[49m\u001b[43mcompression\u001b[49m\u001b[43m=\u001b[49m\u001b[38;5;28;43mself\u001b[39;49m\u001b[43m.\u001b[49m\u001b[43moptions\u001b[49m\u001b[43m.\u001b[49m\u001b[43mget\u001b[49m\u001b[43m(\u001b[49m\u001b[33;43m\"\u001b[39;49m\u001b[33;43mcompression\u001b[39;49m\u001b[33;43m\"\u001b[39;49m\u001b[43m,\u001b[49m\u001b[43m \u001b[49m\u001b[38;5;28;43;01mNone\u001b[39;49;00m\u001b[43m)\u001b[49m\u001b[43m,\u001b[49m\n\u001b[32m   1885\u001b[39m \u001b[43m    \u001b[49m\u001b[43mmemory_map\u001b[49m\u001b[43m=\u001b[49m\u001b[38;5;28;43mself\u001b[39;49m\u001b[43m.\u001b[49m\u001b[43moptions\u001b[49m\u001b[43m.\u001b[49m\u001b[43mget\u001b[49m\u001b[43m(\u001b[49m\u001b[33;43m\"\u001b[39;49m\u001b[33;43mmemory_map\u001b[39;49m\u001b[33;43m\"\u001b[39;49m\u001b[43m,\u001b[49m\u001b[43m \u001b[49m\u001b[38;5;28;43;01mFalse\u001b[39;49;00m\u001b[43m)\u001b[49m\u001b[43m,\u001b[49m\n\u001b[32m   1886\u001b[39m \u001b[43m    \u001b[49m\u001b[43mis_text\u001b[49m\u001b[43m=\u001b[49m\u001b[43mis_text\u001b[49m\u001b[43m,\u001b[49m\n\u001b[32m   1887\u001b[39m \u001b[43m    \u001b[49m\u001b[43merrors\u001b[49m\u001b[43m=\u001b[49m\u001b[38;5;28;43mself\u001b[39;49m\u001b[43m.\u001b[49m\u001b[43moptions\u001b[49m\u001b[43m.\u001b[49m\u001b[43mget\u001b[49m\u001b[43m(\u001b[49m\u001b[33;43m\"\u001b[39;49m\u001b[33;43mencoding_errors\u001b[39;49m\u001b[33;43m\"\u001b[39;49m\u001b[43m,\u001b[49m\u001b[43m \u001b[49m\u001b[33;43m\"\u001b[39;49m\u001b[33;43mstrict\u001b[39;49m\u001b[33;43m\"\u001b[39;49m\u001b[43m)\u001b[49m\u001b[43m,\u001b[49m\n\u001b[32m   1888\u001b[39m \u001b[43m    \u001b[49m\u001b[43mstorage_options\u001b[49m\u001b[43m=\u001b[49m\u001b[38;5;28;43mself\u001b[39;49m\u001b[43m.\u001b[49m\u001b[43moptions\u001b[49m\u001b[43m.\u001b[49m\u001b[43mget\u001b[49m\u001b[43m(\u001b[49m\u001b[33;43m\"\u001b[39;49m\u001b[33;43mstorage_options\u001b[39;49m\u001b[33;43m\"\u001b[39;49m\u001b[43m,\u001b[49m\u001b[43m \u001b[49m\u001b[38;5;28;43;01mNone\u001b[39;49;00m\u001b[43m)\u001b[49m\u001b[43m,\u001b[49m\n\u001b[32m   1889\u001b[39m \u001b[43m\u001b[49m\u001b[43m)\u001b[49m\n\u001b[32m   1890\u001b[39m \u001b[38;5;28;01massert\u001b[39;00m \u001b[38;5;28mself\u001b[39m.handles \u001b[38;5;129;01mis\u001b[39;00m \u001b[38;5;129;01mnot\u001b[39;00m \u001b[38;5;28;01mNone\u001b[39;00m\n\u001b[32m   1891\u001b[39m f = \u001b[38;5;28mself\u001b[39m.handles.handle\n",
      "\u001b[36mFile \u001b[39m\u001b[32m~/.venv/lib/python3.11/site-packages/pandas/io/common.py:873\u001b[39m, in \u001b[36mget_handle\u001b[39m\u001b[34m(path_or_buf, mode, encoding, compression, memory_map, is_text, errors, storage_options)\u001b[39m\n\u001b[32m    868\u001b[39m \u001b[38;5;28;01melif\u001b[39;00m \u001b[38;5;28misinstance\u001b[39m(handle, \u001b[38;5;28mstr\u001b[39m):\n\u001b[32m    869\u001b[39m     \u001b[38;5;66;03m# Check whether the filename is to be opened in binary mode.\u001b[39;00m\n\u001b[32m    870\u001b[39m     \u001b[38;5;66;03m# Binary mode does not support 'encoding' and 'newline'.\u001b[39;00m\n\u001b[32m    871\u001b[39m     \u001b[38;5;28;01mif\u001b[39;00m ioargs.encoding \u001b[38;5;129;01mand\u001b[39;00m \u001b[33m\"\u001b[39m\u001b[33mb\u001b[39m\u001b[33m\"\u001b[39m \u001b[38;5;129;01mnot\u001b[39;00m \u001b[38;5;129;01min\u001b[39;00m ioargs.mode:\n\u001b[32m    872\u001b[39m         \u001b[38;5;66;03m# Encoding\u001b[39;00m\n\u001b[32m--> \u001b[39m\u001b[32m873\u001b[39m         handle = \u001b[38;5;28;43mopen\u001b[39;49m\u001b[43m(\u001b[49m\n\u001b[32m    874\u001b[39m \u001b[43m            \u001b[49m\u001b[43mhandle\u001b[49m\u001b[43m,\u001b[49m\n\u001b[32m    875\u001b[39m \u001b[43m            \u001b[49m\u001b[43mioargs\u001b[49m\u001b[43m.\u001b[49m\u001b[43mmode\u001b[49m\u001b[43m,\u001b[49m\n\u001b[32m    876\u001b[39m \u001b[43m            \u001b[49m\u001b[43mencoding\u001b[49m\u001b[43m=\u001b[49m\u001b[43mioargs\u001b[49m\u001b[43m.\u001b[49m\u001b[43mencoding\u001b[49m\u001b[43m,\u001b[49m\n\u001b[32m    877\u001b[39m \u001b[43m            \u001b[49m\u001b[43merrors\u001b[49m\u001b[43m=\u001b[49m\u001b[43merrors\u001b[49m\u001b[43m,\u001b[49m\n\u001b[32m    878\u001b[39m \u001b[43m            \u001b[49m\u001b[43mnewline\u001b[49m\u001b[43m=\u001b[49m\u001b[33;43m\"\u001b[39;49m\u001b[33;43m\"\u001b[39;49m\u001b[43m,\u001b[49m\n\u001b[32m    879\u001b[39m \u001b[43m        \u001b[49m\u001b[43m)\u001b[49m\n\u001b[32m    880\u001b[39m     \u001b[38;5;28;01melse\u001b[39;00m:\n\u001b[32m    881\u001b[39m         \u001b[38;5;66;03m# Binary mode\u001b[39;00m\n\u001b[32m    882\u001b[39m         handle = \u001b[38;5;28mopen\u001b[39m(handle, ioargs.mode)\n",
      "\u001b[31mFileNotFoundError\u001b[39m: [Errno 2] No such file or directory: '/home/seann/scratch/denoise/fmriprep-denoise-benchmark/outputs/denoise-metrics-atlas.5-4.27.25/ds000228/fmriprep-25.0.0/ds000228_fmriprep-25-0-0_desc-stringent_summary.tsv'"
     ]
    }
   ],
   "source": [
    "# Cell 10: Rebuild manual summary, load existing, align, and compare\n",
    "\n",
    "import pandas as pd\n",
    "\n",
    "# 1) Reconstruct manual summary\n",
    "#    (Make sure uncorr, fdr, meds, dist_df2 are still in memory from Cells 6–9)\n",
    "sig_df    = pd.DataFrame(uncorr.stack(),    columns=[\"qcfc_significant\"])\n",
    "fdr_df    = pd.DataFrame(fdr.stack(),       columns=[\"qcfc_fdr_significant\"])\n",
    "median_df = pd.DataFrame(meds.stack(),      columns=[\"qcfc_mad\"])\n",
    "# dist_df2 from fixed Cell 9 is already a MultiIndex Series\n",
    "\n",
    "summary_manual = pd.concat([sig_df, fdr_df, median_df, dist_df2], axis=1)\n",
    "summary_manual.index.names = [\"groups\", \"strategy\"]\n",
    "\n",
    "print(\"✔️ Manual summary:\\n\", summary_manual.head(), \"\\n\")\n",
    "\n",
    "# 2) Load existing summary TSV with two‐row header\n",
    "summary_path = (\n",
    "    PATH_ROOT / DATASET / FMRIPREP_VERSION /\n",
    "    f\"{DATASET}_{FMRIPREP_VERSION.replace('.', '-')}\"\n",
    "    f\"_desc-{CRITERIA}_summary.tsv\"\n",
    ")\n",
    "existing = pd.read_csv(\n",
    "    summary_path,\n",
    "    sep=\"\\t\",\n",
    "    header=[0,1],     # two‐row header for the columns\n",
    "    index_col=[0,1]   # two‐column index\n",
    ")\n",
    "\n",
    "# 3) Subset to QC‑FC metrics and drop second‐level labels\n",
    "qcfc_metrics = [\"qcfc_significant\",\"qcfc_fdr_significant\",\"qcfc_mad\",\"corr_motion_distance\"]\n",
    "existing_qcfc = existing[qcfc_metrics]\n",
    "existing_qcfc.columns = existing_qcfc.columns.droplevel(1)\n",
    "\n",
    "# 4) Align index names\n",
    "existing_qcfc.index.names = [\"groups\",\"strategy\"]\n",
    "\n",
    "print(\"✔️ Existing QC‑FC summary:\\n\", existing_qcfc.head(), \"\\n\")\n",
    "\n",
    "# 5) Compare\n",
    "pd.testing.assert_frame_equal(summary_manual, existing_qcfc)\n",
    "print(\"✅ Manual QC‑FC summary MATCHES the existing file exactly.\")"
   ]
  }
 ],
 "metadata": {
  "kernelspec": {
   "display_name": ".venv",
   "language": "python",
   "name": "python3"
  },
  "language_info": {
   "codemirror_mode": {
    "name": "ipython",
    "version": 3
   },
   "file_extension": ".py",
   "mimetype": "text/x-python",
   "name": "python",
   "nbconvert_exporter": "python",
   "pygments_lexer": "ipython3",
   "version": "3.11.4"
  }
 },
 "nbformat": 4,
 "nbformat_minor": 5
}
